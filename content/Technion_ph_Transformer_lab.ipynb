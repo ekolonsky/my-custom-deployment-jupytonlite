{
  "nbformat": 4,
  "nbformat_minor": 0,
  "metadata": {
    "colab": {
      "provenance": [],
      "collapsed_sections": []
    },
    "kernelspec": {
      "name": "python3",
      "display_name": "Python 3"
    },
    "language_info": {
      "name": "python"
    }
  },
  "cells": [
    {
      "cell_type": "markdown",
      "source": [
        "<font size=42>Transformer Experiment </font>"
      ],
      "metadata": {
        "id": "Vp8-_bE_0xcu"
      }
    },
    {
      "cell_type": "markdown",
      "source": [
        "*Before reading the guide, be sure to understand the following terms:*\n",
        "\n",
        "Farady's Law, Law of Lenz, Load, Equivalent Inhibition, Inductance, Electric Capacitance, Phasor."
      ],
      "metadata": {
        "id": "6q6114dh0701"
      }
    },
    {
      "cell_type": "code",
      "source": [
        "import numpy as np\n",
        "import matplotlib.pyplot as plt"
      ],
      "metadata": {
        "id": "rEamhuQ-kt0q"
      },
      "execution_count": null,
      "outputs": []
    },
    {
      "cell_type": "markdown",
      "source": [
        "## Theory"
      ],
      "metadata": {
        "id": "GB2bIdkd0Eux"
      }
    },
    {
      "cell_type": "markdown",
      "source": [
        "### Introduction\n",
        "\n",
        "According to Faraday’s Law, variability in time of the magnetic field through the coil, will result in the creation of an electrical current through the coil called induced EMF\n",
        "$ \\varepsilon = -N {d\\Phi_B \\over dt}$ where $N$ is the number of coil wrappings. Suppose the two coils wound on the same iron core. The coils are not connected in an electric manner, but are placed so that the magnetic field produced by each coil also goes through the other coil through the iron core (Figure 1). In order that the magnetic field be \"imprisoned\" in the core and pass into the air, the core material must have a very high level of magnetic permeability (and ideally, an infinite level of permeability). Iron is suitable for use as a core, since its magnetic permeability is $5,000 {𝜇N \\over 𝐴^2}$.\n",
        "\n",
        "When an AC source is connected to the first coil, an AC current will flow through it and will cause a time variable EMF. If both coils have a different number of turns, the flux causes a transformed voltage on the coils. This device is called a **transformer** (see Figure 2) because it changes the voltage in an electrical circuit. The coil connected to the power source is called a **primary coil** (primary) and $N_𝑃$ denotes its number of coil turns, and the **second coil** that is the “output” of the transformer is called secondary coil (secondary) and has $𝑁_𝑆$ coil turns.\n",
        "\n",
        "<img src=\"https://raw.githubusercontent.com/ekolonsky/Technion-lab2/main/f1.jpg\"/> \n",
        "<br>\n",
        "Fig.1: Two coils wound on the same iron core\n",
        "\n",
        "<img src=\"https://raw.githubusercontent.com/ekolonsky/Technion-lab2/main/f2.jpg\"/> \n",
        "<br>\n",
        "Fig. 2: Schematic diagram of transformer. \n",
        "The vertical lines between the coils indicate that \n",
        "there is a resonance coupling between them (they share a flux).\n"
      ],
      "metadata": {
        "id": "ST2R-e5J1Nf7"
      }
    },
    {
      "cell_type": "markdown",
      "source": [
        "### Ideal transformer without load:\n",
        "\n",
        "Suppose there is no energy loss in the transformer. This transformer is called an **ideal transformer**. Look at the circuit in Figure 2. In Figure 2, we discern the relationship between the voltages $𝑉_p$ and $𝑉_s$ where an AC current $I$ flows in the first circuit. The induced voltage in the primary coil is:\n",
        "\n",
        "$$ V_p = -N_p { d\\Phi \\over dt} \n",
        "\\tag{1}\n",
        "$$\n",
        "\n",
        "This is the magnetic flux produced in the primary coil. Assuming that there are no magnetic flux losses in the transition from primary to secondary, the same magnetic flux is incorporated in both the primary and secondary coils, so equation (1) can also be written for the secondary coil:\n",
        "$$ V_s = -N_s { d\\Phi \\over dt} .\n",
        "\\tag{2}\n",
        "$$\n",
        "\n",
        "We divide equation (2) into equation (1) and get the relation:\n",
        "\n",
        "$$\n",
        "{ V_s \\over V_p } = {N_s \\over N_p}.\n",
        "\\tag{3}\n",
        "$$\n",
        "\n",
        "Note that if the number of windings in the secondary coil is smaller than the number of windings in the primary coil ($𝑁_s< 𝑁_p$), the induced voltage on the secondary coil is also smaller than the induced voltage on the primary coil. This is a **step down transformer** that lowers the voltage. Similarly, if $𝑁_s> 𝑁_p$ then we get a **step up transformer**.\n",
        "\n",
        "It is customary to define the size $a={N_p \\over N_s}$. This size is called the transformer ratio of the transformer, and it is customary to write the equation (3) as: ${ V_s \\over V_p } = {1 \\over a}$."
      ],
      "metadata": {
        "id": "S3VKTpz14AtZ"
      }
    },
    {
      "cell_type": "markdown",
      "source": [
        "### Ideal transformer with load\n",
        "\n",
        "Let us now look at an ideal transformer whose load $R_L$ (ohms only) is connected to its secondary coil, as shown in Figure 3.\n",
        "\n",
        "<img src=\"https://raw.githubusercontent.com/ekolonsky/Technion-lab2/main/f3.jpg\"/> \n",
        "<br>\n",
        "Figure 3: Ideal transformer with load.\n",
        "\n",
        "The voltage ratio on the coils of the transformer will be obtained by the equation (3), but in this case there is also an electrical current in the secondary coil. We will denote this current as: $𝐼_s$ since this is an ideal transformer, it has no energy losses, so under the Energy Conservation Law, the power that enters is equal to the output power:\n",
        "$$\n",
        "V_p I_p = V_s I_s\n",
        "\\tag{4}\n",
        "$$\n",
        "From here: ${I_s \\over I_p} = {V_p \\over V_s}$ with this equation (3) we get:\n",
        "\n",
        "$$\n",
        "{I_s \\over I_p} = {N_p \\over N_s} = a\n",
        "\\tag{5}\n",
        "$$\n"
      ],
      "metadata": {
        "id": "eRQwelsY7x43"
      }
    },
    {
      "cell_type": "markdown",
      "source": [
        "### Reflected impedance in an ideal transformer\n",
        "\n",
        "As with any electric circuit we want to find the equivalent impedance of the circuit. Our aim is to express the transformer and the load connected to it as a single component with impedance $Z$ and then we can solve the transformer-containing circuit using the standard methods we know. Therefor we will build an equivalent circuit as in Figure 3, by denoting the transformer together with the connected load as impedance $𝑍_{𝑒𝑞}$ (Fig. 4).\n",
        "\n",
        "<img src=\"https://raw.githubusercontent.com/ekolonsky/Technion-lab2/main/f4.jpg\"/> \n",
        "<br>\n",
        "Figure 4: Circuit-equivalent to a transformer circuit with ideal load\n",
        "\n",
        "Find: $𝑍_{𝑒𝑞}$ in: $𝑍_{𝑒𝑞} = {𝑉_𝑝 \\over 𝐼_𝑝} ={ 𝑉_𝑠  {𝑁_𝑝 \\over 𝑁_𝑠} \\over 𝐼_s {𝑁_s\\over 𝑁_𝑝}} = \\left({𝑁_𝑝 \\over 𝑁_𝑠}\\right)^2\n",
        "  \\left({V_s \\over I_s}\\right) = \\left({𝑁_𝑝\\over 𝑁_𝑠}\\right)^2 R_L $\n",
        " that is the impedence: $𝑍_{𝑒𝑞}$ is dependent on the number of in the two coils of the transformer and the load connected to it. In our case impedance $𝑍_{𝑒𝑞}$ is a resistor, because the load we connected to the transformer has a resistance of $R_L$ (the letter $L$ indicates \"Load\"). Note that the transformer does not alter its impedance characteristics, but only its value (induction load remains inductive, capacitive load remains capacitive).\n",
        "\n",
        "\n",
        "In aggregate we obtained:\n",
        "$$\n",
        "\\left| Z_{eq}\\right| = R_{eq} = a^2 R_L\n",
        "\\tag{6}\n",
        "$$\n",
        "\n",
        "The Phase of the equivalent impedance:\n",
        "$$\n",
        "\\varphi = 0 ^{\\circ}.\n",
        "$$"
      ],
      "metadata": {
        "id": "s4MtSHi89LRQ"
      }
    },
    {
      "cell_type": "markdown",
      "source": [
        "### Transformer as an Impedance Adapter:\n",
        "\n",
        "One of the most common uses of the transformer is to increase the efficiency of transferring power from a power source to a load. Suppose we desire to obtain the maximum possible power which amplifies against internal resistance 𝑟 and can supply to a speaker with $𝑅_𝐿$ Resistance. The speaker will be connected to an amplifier via a transformer. The equivalent resistance is calculated for the transformer and speaker together: $𝑅_{𝑒𝑞}=𝑎^2 𝑅_L$. We obtained an equivalent circuit as shown in Figure 5. In this type of circuit, we obtain a maximum power of $𝑅_{𝑒𝑞}$ where $𝑟=𝑅_{𝑒𝑞}$. In order that this condition exist, a transformer with the appropriate ratio of bindings (a) is selected and maximum power is obtained for an equivalent Resistor $𝑅_{𝑒𝑞}$ ànd therefore for the speaker as well. The method of power supply is called **impedance coordination**.\n",
        "\n",
        "<img src=\"https://raw.githubusercontent.com/ekolonsky/Technion-lab2/main/f5.jpg\"/> \n",
        "<br>\n",
        "Figure 5: Twin-impedance circuit for amplifier problem with speaker"
      ],
      "metadata": {
        "id": "3sPk3aX1BOsr"
      }
    },
    {
      "cell_type": "markdown",
      "source": [
        "### Practical transformer (not ideal)\n",
        "\n",
        "In practical transformers there are energy losses. For instance not all the power supplied to the primary coil passes to the secondary coil. We will try to construct a **transformation circuit** (an electrically equivalent circuit) which is composed of components that reflect the physical processes that occur in the practical transformer and the reason for power losses will be explained:\n",
        "\n",
        "<ol type=\"a\">\n",
        "  \n",
        "  <li>The coils that make up the transformer also contain the ohmic resistance (see the \"AC\" guide, pages 4-5) that causes the coil heating and energy leakage. These Resistances are denoted with $𝑅_𝑝$ for the primary coil and $𝑅_𝑠$ for the secondary coil .</li>\n",
        "\n",
        "  <li>There is a leakage of magnetic flux in the coils of the transformer, for example, a small part of the flux passes through the air rather than the core of the coils (see Figure 6). This variability of leaking flux creates magnetic inductance. We will denote with $𝑋_𝑝$, $𝑋_𝑠$ the resultant reactance caused by the leakage of the flux in the primary and secondary coils respectively .</li>\n",
        "  <li>Since the core material does not have infinite permeability, an electric current is required to create the main flux (Fig. 6). $𝑋_𝑀$ denotes the reactance responsible for the formation of the main flux in the transformer core as a result of the current in the primary coil .</li>\n",
        "\n",
        "  <li>There are losses in the magnetic material of the core due to the losses of the *Hysteresis* and *Eddy currents*. These losses cause a warming of the core and an energy drain [1]. As we know, a component in which the electric current turns into heat is a Resistor (see AC / DC guide, page 4). $𝑅_𝐶$ denotes obtained Resistance due to transformer core losses.</li>\n",
        "</ol>\n",
        "\n",
        "<img src=\"https://raw.githubusercontent.com/ekolonsky/Technion-lab2/main/f6.jpg\"/> \n",
        "<br>\n",
        "Figure 6: Flux leakage in the coils of a practical transformer\n",
        "\n",
        "Now we will construct the transformation circuit of a non-ideal transformer with an  RL  load connected to it (see Figure 7). An explanation of how we chose the location of each element in the transformation circuit can be found in [2].\n",
        "\n",
        "<img src=\"https://raw.githubusercontent.com/ekolonsky/Technion-lab2/main/f7.jpg\"/> \n",
        "<br>\n",
        "Figure 7: Transformation circuit of real transformer with load $R_L$ The induced electric current in the primary circuit by the secondary circuit is denoted by $𝐼_𝑠^∗$ and the relation between it and the secondary circuit electric current $I_𝑠$ is given by equation (5), which is valid for the ideal transformer.\n",
        "\n",
        "In the experiment we will find the values of the components in the transformation circuit of a real transformer. We will do this by performing two experiments: a **transformer experiment without load (disconnect / vacuum)** and a **short experiment**.\n",
        "\n",
        "\n"
      ],
      "metadata": {
        "id": "4YJynqj6Cz7y"
      }
    },
    {
      "cell_type": "markdown",
      "source": [
        "### Practical transformer without load\n",
        "\n",
        "In a load-free transformer, $𝑅_𝐿$ is disconnected and therefore $𝐼_𝑠^∗ = 0$ (see Figure 7). The primary losses are in the core material and you can neglect the coil wire and leakage losses, that is, neglect the components $𝑅_𝑝$,$𝑋_𝑝$ vs. $𝑅_𝐶$,$𝑋_𝑀$. Additionally, the electric current $𝐼_0$ (in Figure 7), ìn the primary coil (transformer without load) has two components: the $𝐼_𝑀$ current that produces the magnetic flux at the transformer core and is in the same phase with the magnetic flux $\\Phi$, and the $𝐼_𝐶$ current which causes losses in the transformer core and does not generate magnetic flux. This component is usually negligible, but can reach 10% or more, of the electric current, if there are defects in the transformer fabrication. A phasor diagram (an explanation of phasors can be found in the \"alternating current\" guide, page 3) of the currents is shown in Figure 8.\n",
        "\n",
        "<img src=\"https://raw.githubusercontent.com/ekolonsky/Technion-lab2/main/f8.jpg\"/> \n",
        "<br>\n",
        "Figure 8: Phasor diagram of the currents without load\n",
        "\n",
        "Conditions:\n",
        "$$\n",
        "I_C = I_0 \\cos\\varphi\n",
        "\\tag{7}\n",
        "$$\n",
        "\n",
        "$$\n",
        "I_M = I_0 \\sin\\varphi\n",
        "\\tag{8}\n",
        "$$\n",
        "\n",
        "$$\n",
        "I_0 = \\sqrt{I_C^2 + I_M^2}\n",
        "\\tag{9}\n",
        "$$\n",
        "According to our assumptions: $𝐼_𝑝 = 𝐼_0$. If we measure the size of this current and the angle $\\varphi$ between the voltage and current in the primary coil, we can calculate the currents $𝐼_𝐶$,$𝐼_𝑀$ and then the components $𝑅_𝐶$,$𝑋_𝑀$ according to:\n",
        "\n",
        "$$\n",
        "R_C = {V_P \\over I_C}\n",
        "\\tag{10}\n",
        "$$\n",
        "\n",
        "$$\n",
        "X_M = {V_p \\over I_M}.\n",
        "\\tag{11}\n",
        "$$"
      ],
      "metadata": {
        "id": "LoZHHrSeE5m7"
      }
    },
    {
      "cell_type": "markdown",
      "source": [
        "### Practical transformer with load\n",
        "\n",
        "If the transformer is loaded (connecting the rheostat to the secondary coil terminals as in Figure 3) then the flow diagram will change (see Figure 9). In the secondary coil, an electric current $𝐼_s$ will flow, which will alter the flux in the secondary coil, and as a result, there will also be flux in the primary coil. This electric current, will try under Lenz's law, to reduce the flux in the primary coil. Since the voltage at the input to the primary coil is constant (generator voltage), it will increase the current in the primary coil, according to the wrap ratio, so that it will reach the value of $𝐼_𝑠^∗$ (see explanation for Figure 7). The current in the primary coil $𝐼_𝑝$ will be the sum of two vectors: the current $𝐼_𝑠^∗$ and the current $𝐼_0$ (the current of a non-load transformer).\n",
        "\n",
        "<img src=\"https://raw.githubusercontent.com/ekolonsky/Technion-lab2/main/f9.jpg\"/> \n",
        "<br>\n",
        "Figure 9: Phasor diagram of the currents in a practical transformer with load"
      ],
      "metadata": {
        "id": "O0UzI0zdMFYl"
      }
    },
    {
      "cell_type": "markdown",
      "source": [
        "### A short experiment\n",
        "\n",
        "In a short experiment, the secondary coil is shortened, for example, $𝑅_L=0$. In this `scenario, we get large currents $𝐼_𝑝$ and $𝐼_𝑠^∗$ as opposed to the $𝐼_0$ current. We can assume that $𝐼_𝑝= 𝐼_𝑠^∗ \\gg 𝐼_0$ (see Figure 7). Therefore, we will ignore the components $𝑅_𝐶$,$𝑋_𝑀$ and find an impedance equivalent to the circuit.\n",
        "\n",
        "$$\n",
        "Z = (R_p + i X_p) + (a^2 R_s + i a^2 X_s) = R + i X.\n",
        "\\tag{12}\n",
        "$$\n",
        "From here:\n",
        "$$\n",
        "\\left|Z\\right| = \\sqrt{R^2+X^2} = {V_p \\over I_p}.\n",
        "$$ \n",
        "Therefore:\n",
        "$$\n",
        "X = \\sqrt{\\left|Z\\right| - R^2}\n",
        ",\\qquad\n",
        "R = {P \\over I_p^2}\n",
        "$$ \n",
        "Where $P$ is the power supply source. The coils of the transformer in the experiment are the same:, therefore:\n",
        "$$\n",
        "X_p = X_s, \\qquad R_p = R_s.\n",
        "\\tag{13}\n",
        "$$ \n",
        "\n"
      ],
      "metadata": {
        "id": "kKTLAeqhMg_Z"
      }
    },
    {
      "cell_type": "markdown",
      "source": [
        "### Autotransformer\n",
        "\n",
        "Several coils can be placed on the same core, connect the coils together and get different voltages. The only requirement is that the electric current between the coils needs to connect, and not be missing. When there is one coil on the core (or coils connected between them so that there is an electrical contact between the primary and secondary coils) then the system is called a Autotransformer (see Figure 10). $𝑀$\n",
        "is the connection point between the two coils.\n",
        "\n",
        "<img src=\"https://raw.githubusercontent.com/ekolonsky/Technion-lab2/main/f10.jpg\"/> \n",
        "<br>\n",
        "Figure 10: Autotransformer\n",
        "\n",
        "Note that the equations which connect the voltage and current in primary and secondary coils do not change:\n",
        "$$\n",
        "{V_s \\over V_p} = {N_s \\over N_p}, \\qquad {I_s \\over I_p} = {N_p \\over N_s}\n",
        "$$\n",
        "The great advantage of an Autotransformer is that it is less expensive compared to an ordinary transformer because it requires fewer copper wires for the coils and, its structure is simpler. Also, power losses in the Autotransformer are less than those in a normal transformer, for the same power.\n",
        "\n",
        "The disadvantages of Autotransformers are:\n",
        "<ol>\n",
        "  \n",
        "<li>The primary coil carries the currents of the primary and secondary coil and therefore the copper wires need to be thicker for a given power.</li>\n",
        " <li>Circuits are not electrically insulated.</li>\n",
        "</ol>\n",
        "\n",
        "A useful component called *Variac* is an Autotransformer with a $𝑀$ contact (Fig. 10) that slides along the coil and enables the selection of a desired output voltage, usually between $0$ and $𝑉_𝑝$.\n",
        "\n",
        "<u>\n",
        "**Note**: It is important to ensure that the common connection between the input and output will be \"0\" of the network and not on the \"hot\" side (220V) because it is dangerous!\n",
        "</u>\n"
      ],
      "metadata": {
        "id": "_i2unzE1PNyK"
      }
    },
    {
      "cell_type": "markdown",
      "source": [
        "##Preparation questions"
      ],
      "metadata": {
        "id": "ye1zK4JjRJxX"
      }
    },
    {
      "cell_type": "markdown",
      "source": [
        "### Question 1\n",
        "\n",
        "A transformer has a primary coil with 1000 winds and secondary coil with 2000 winds. A voltage of 100V, 50Hz flows through the initial coil (input). What will be the voltage be on the second coil (output)? What is the output voltage if we invert the connections (input / output)?"
      ],
      "metadata": {
        "id": "-xsrtlgs7KZO"
      }
    },
    {
      "cell_type": "markdown",
      "source": [
        "#### Answer 1 "
      ],
      "metadata": {
        "id": "BniJVHe-66cG"
      }
    },
    {
      "cell_type": "code",
      "source": [
        "#Answer here\n",
        "Np = 1000\n",
        "Ns = 2000\n",
        "Vp = 100\n",
        "freq = 50\n",
        "\n",
        "a = Np/Ns\n",
        "print('Transformer ratio: {}.'.format(a)) \n",
        "Vs = Vp /a\n",
        "print('Voltage on the second coil: {}V'.format(Vs)) \n",
        "print('If we invert connections output will be: {}V'.format(Vp *a)) "
      ],
      "metadata": {
        "colab": {
          "base_uri": "https://localhost:8080/"
        },
        "id": "jUM3cN8HScL7",
        "outputId": "bff17f6e-ec51-4360-88d9-55c55e63f6d2"
      },
      "execution_count": null,
      "outputs": [
        {
          "output_type": "stream",
          "name": "stdout",
          "text": [
            "Transformer ratio: 0.5.\n",
            "Voltage on the second coil: 200.0V\n",
            "If we invert connections output will be: 50.0V\n"
          ]
        }
      ]
    },
    {
      "cell_type": "markdown",
      "source": [
        "### Question 2\n",
        "\n",
        "For the circuit in figure 3: $𝑉_𝑝=10𝑉$, $𝑅_𝐿=10\\Omega$,  $𝑁_𝑝=140$, $𝑁_𝑠=42$. Find the $𝐼_𝑠$ current that flows through the $𝑅_𝐿$ load. Hint: Use Ohm Law for load and the equation (3).\n",
        "\n",
        "<img src=\"https://raw.githubusercontent.com/ekolonsky/Technion-lab2/main/f3.jpg\"/> "
      ],
      "metadata": {
        "id": "3bdCzdBb7eGt"
      }
    },
    {
      "cell_type": "markdown",
      "source": [
        "#### Answer 2"
      ],
      "metadata": {
        "id": "82C64MdK7iYx"
      }
    },
    {
      "cell_type": "code",
      "execution_count": null,
      "metadata": {
        "colab": {
          "base_uri": "https://localhost:8080/"
        },
        "id": "SSptjfAc0p_r",
        "outputId": "8d47be9f-e2fe-4883-8c64-3b81fc42a067"
      },
      "outputs": [
        {
          "output_type": "stream",
          "name": "stdout",
          "text": [
            "Transformer ratio:    3.3.\n",
            "Voltage on the second coil Vs: 3.0V\n",
            "Current on the second coil Is: 0.3A\n"
          ]
        }
      ],
      "source": [
        "#Answer here\n",
        "Vp = 10\n",
        "RL = 10\n",
        "Np = 140\n",
        "Ns = 42\n",
        "\n",
        "a = Np / Ns \n",
        "Vs = Vp /a\n",
        "Is = Vs / RL\n",
        "print('Transformer ratio: {:6.2}.'.format(a)) \n",
        "print('Voltage on the second coil Vs: {}V'.format(Vs)) \n",
        "print('Current on the second coil Is: {}A'.format(Is)) \n"
      ]
    },
    {
      "cell_type": "markdown",
      "source": [
        "### Question 3\n",
        "\n",
        "Prove that for the circuit in Figure 5 we obtain maximum power on the resistor $𝑅_{𝑒𝑞}$ where $𝑟=𝑅_{𝑒𝑞}$. Hints: Find the expression of the power developing on the resistor $𝑅_{𝑒𝑞}$ using the parameters $𝑉_𝑝$, $𝑟$, $𝑅_{𝑒𝑞}$ , reduce the expression by $𝑅_{𝑒𝑞}$ and compare to 0.\n",
        "\n",
        "<img src=\"https://raw.githubusercontent.com/ekolonsky/Technion-lab2/main/f5.jpg\"/> "
      ],
      "metadata": {
        "id": "KZULoafR7k7M"
      }
    },
    {
      "cell_type": "markdown",
      "source": [
        "#### Answer 3\n",
        "\n",
        "$$ P = I^2 R_{eq}, \\qquad I = {V_p \\over r + R_{eq}},$$\n",
        "Therefore\n",
        "$$ P = V_p^2 {R_{eq} \\over (r+R_{eq})^2}\n",
        "$$\n",
        "\n",
        "Considering $P$ as a function of $R_{eq}$ with constant $V_p$ and $r$ we can found that maximum is achieved when $$R_{eq} = r.$$"
      ],
      "metadata": {
        "id": "SdTKG-tI7o4A"
      }
    },
    {
      "cell_type": "markdown",
      "source": [
        "### Question 4a\n",
        "\n",
        "Prove that the average power developing on $Z$ in the circuit in Figure A is equal to $𝑃_{𝑎𝑣𝑔}={1\\over 2} 𝑉_0 𝐼_0 \\cos\\varphi$. Note that $\\varphi$ is the angle between the voltage and the current of the power source and is also the negative phase of impedance (see explanation in the Introduction to AC, pg 3). Use the formula: $𝑃_{𝑎𝑣𝑔} = {1\\over 𝑇} \\int_0^T{𝑉_𝑝 𝐼_𝑝 𝑑𝑡}$. What is the equation for power, if the RMS values of the voltage and current are in place of their amplitudes?\n",
        "\n",
        "<img src=\"https://raw.githubusercontent.com/ekolonsky/Technion-lab2/main/fA.jpg\"/> \n",
        "<br>\n",
        "Figure A"
      ],
      "metadata": {
        "id": "O1ZO53jr70_U"
      }
    },
    {
      "cell_type": "markdown",
      "source": [
        "#### Answer 4a\n",
        "\n",
        "1) Integrate\n",
        "\n",
        "2) $𝑃_{𝑎𝑣𝑔}= V I  \\cos\\varphi$, where $V$, $I$ - RMS values."
      ],
      "metadata": {
        "id": "dzXIln5376eQ"
      }
    },
    {
      "cell_type": "markdown",
      "source": [
        "### Question 4b\n",
        "\n",
        "What is the power that is developing on the $𝑋_𝑀$ coil and the $𝑅_𝐶$ resistor in the circuit in Figure B?\n",
        "\n",
        "<img src=\"https://raw.githubusercontent.com/ekolonsky/Technion-lab2/main/fB.jpg\"/> \n",
        "<br>\n",
        "Figure B"
      ],
      "metadata": {
        "id": "KD5GXM328E5E"
      }
    },
    {
      "cell_type": "markdown",
      "source": [
        "#### Answer 4b\n",
        "\n",
        "1. Power on $X_M$ coil is $P = 0$, since voltage and current are ortogonal.\n",
        "2. Power on $R_C$ resistor $P = { V_p^2 \\over R_C}$."
      ],
      "metadata": {
        "id": "kK07h55c8Kc7"
      }
    },
    {
      "cell_type": "markdown",
      "source": [
        "### Question 5\n",
        "\n",
        "You want to connect with the help of a transformer an amplifier represented by a sine voltage source and internal resistance of $500\\Omega$ to a speaker with input impedance of $4\\Omega$. What should be the ratio of the transformer's winds to correlations impedances of the amplifier and the speaker (will give maximum power on the loudspeaker). Does the coil with the highest number of winds need connect to an amplifier or speaker?"
      ],
      "metadata": {
        "id": "P2H6FeaX8NXJ"
      }
    },
    {
      "cell_type": "markdown",
      "source": [
        "#### Answer 5\n",
        "\n",
        "To get maximum power on the speaker, the effictive resistanse $Z$ of the transformer should equals to internal resistance $r$, as shown in question (3).\n",
        "Internal resistance $Z = a^2 R$, where $a$ - transform ratio, $R$ - speaker impedance.\n",
        "\n",
        "The coil with the highest number of $N$ should be connected to the **amplifier**."
      ],
      "metadata": {
        "id": "8sA4L2AS8Wjq"
      }
    },
    {
      "cell_type": "code",
      "source": [
        "r = 500 # internal resistor\n",
        "R = 4   # speaker\n",
        "a = np.sqrt(r/R)\n",
        "print('Transformer ratio: {:5.1f}.'.format(a)) # a > 1 - step down transformer\n"
      ],
      "metadata": {
        "colab": {
          "base_uri": "https://localhost:8080/"
        },
        "id": "4u6Wp0jmXA2C",
        "outputId": "29ee2a03-31e4-409d-86e9-26741c21ab19"
      },
      "execution_count": null,
      "outputs": [
        {
          "output_type": "stream",
          "name": "stdout",
          "text": [
            "Transformer ratio:  11.2.\n"
          ]
        }
      ]
    },
    {
      "cell_type": "markdown",
      "source": [
        "### Question 6\n",
        "\n",
        "The amplifier in question 5 can provide $2W$ to the speaker when there is impedance coordination. Assuming that the transformer is ideal (without losses):\n",
        "\n",
        "<ol type=\"a\">\n",
        "<li>What is the power wastage in resistance of the amplifier output with the speaker connected as in Question 5 ? </li>\n",
        "<li>If a speaker with an impedance of $4\\Omega$ is connected directly to the amplifier output (without transformer), what will be the output power (speaker power)? </li>\n",
        "<li>Of all connections, which has the highest efficiency $\\eta$ when efficiency is defined as $\\eta = {\\text{output power} \\over \\text{output power} + \\text{losses}}?$ </li>\n",
        "</ol>"
      ],
      "metadata": {
        "id": "wiljkD6C8oJb"
      }
    },
    {
      "cell_type": "markdown",
      "source": [
        "#### Answer 6\n",
        "\n",
        "<ol type=\"a\">\n",
        "<li>$P = I^2 r = I_s^2 R$ - the same power as on speaker</li>\n",
        "<li>Voltage on amplifier $V=2 \\sqrt{P r}$ \n",
        "\n",
        "Current on amplifier and on speaker $I = {V \\over r+R}$\n",
        "\n",
        "Power on speaker $P_L = I^2 R$\n",
        "\n",
        "Therefore $P_L = P {4 r R\\over (r+R)^2}$\n",
        "</li>\n",
        "<li>\n",
        "The highest efficiency achieved when speaker connected over transformer (a)\n",
        "</li>\n",
        "\n",
        "</ol>"
      ],
      "metadata": {
        "id": "LLn2d5Oq8rnO"
      }
    },
    {
      "cell_type": "code",
      "source": [
        "r = 500 # internal resistor\n",
        "R = 4   # speaker\n",
        "P = 2   # power on speaker\n",
        "print('a. Power on amplifier: {:5.1f}W.'.format(P))\n",
        "Pb = P * 4 *r * R / (r+R)/(r+R) \n",
        "print('b. Power on amplifier: {:5.1f}W.'.format(Pb)) \n"
      ],
      "metadata": {
        "colab": {
          "base_uri": "https://localhost:8080/"
        },
        "id": "kJMxV5_7_ieX",
        "outputId": "9040e5f9-205b-4e23-d955-2f09ec41af88"
      },
      "execution_count": null,
      "outputs": [
        {
          "output_type": "stream",
          "name": "stdout",
          "text": [
            "a. Power on amplifier:   2.0W.\n",
            "b. Power on amplifier:   0.1W.\n"
          ]
        }
      ]
    },
    {
      "cell_type": "markdown",
      "source": [
        "### Question 7\n",
        "\n",
        "In a given non-load transformer experiment: $\\varphi=70^\\circ$,$V_p=2𝑉$, $I_p=0.1A$. Find the components: $X_M$, $R_C$\n",
        "\n",
        "<img src=\"https://raw.githubusercontent.com/ekolonsky/Technion-lab2/main/f8.jpg\" width=30%/> "
      ],
      "metadata": {
        "id": "zyMYz_pP8uO9"
      }
    },
    {
      "cell_type": "markdown",
      "source": [
        "#### Answer 7."
      ],
      "metadata": {
        "id": "TncRTN6X8417"
      }
    },
    {
      "cell_type": "code",
      "source": [
        "phi = 70 / 180 * np.pi # to radians\n",
        "Vp = 2\n",
        "Ip = 0.1\n",
        "\n",
        "Ic = Ip * np.cos(phi)\n",
        "Im = Ip * np.sin(phi)\n",
        "Rc = Vp / Ic\n",
        "Xm = Vp / Im\n",
        "print('Rc: {:5.1f} Ohm.'.format(Rc))\n",
        "print('Xm: {:5.1f} Ohm.'.format(Xm))\n"
      ],
      "metadata": {
        "colab": {
          "base_uri": "https://localhost:8080/"
        },
        "id": "09F7UAHeyXZY",
        "outputId": "e62fb3fc-6000-4bab-9210-8ef8b13f36e2"
      },
      "execution_count": null,
      "outputs": [
        {
          "output_type": "stream",
          "name": "stdout",
          "text": [
            "Rc:  58.5 Ohm.\n",
            "Xm:  21.3 Ohm.\n"
          ]
        }
      ]
    },
    {
      "cell_type": "markdown",
      "source": [
        "### Question 8.\n",
        "\n",
        "In a short experiment $R_L=0$, the current in a circuit is large, therefore: $I_p = I_s \\gg I_0$. Find the components $X_p$, $R_p$  in the Transformation circuit in Figure 7 if it is known that $I_P =0.5𝐴$, $V_p = 2V$ and the phase difference between them is $\\varphi=35^\\circ$ . The coils of the transformer in the experiment are the same. \n",
        "\n",
        "<img src=\"https://raw.githubusercontent.com/ekolonsky/Technion-lab2/main/f7.jpg\" width=50%/> "
      ],
      "metadata": {
        "id": "6vu3Cpa6862R"
      }
    },
    {
      "cell_type": "markdown",
      "source": [
        "#### Answer 8.\n",
        "\n",
        "$$\n",
        "\\qquad Z = {V_p \\over I_p}, \n",
        "\\qquad R_p = Z \\cos\\varphi, \n",
        "\\qquad X_p = Z \\sin\\varphi. \n",
        "$$"
      ],
      "metadata": {
        "id": "Hcpu6HJ48_TI"
      }
    },
    {
      "cell_type": "code",
      "source": [
        "Vp = 2\n",
        "Ip = 0.5\n",
        "phi = 35/180*np.pi\n",
        "\n",
        "Rp = Vp/Ip * np.cos(phi)\n",
        "Xp = Vp/Ip * np.sin(phi)\n",
        "\n",
        "print('Rp: {:5.1f} Ohm.'.format(Rp))\n",
        "print('Xp: {:5.1f} Ohm.'.format(Xp))"
      ],
      "metadata": {
        "colab": {
          "base_uri": "https://localhost:8080/"
        },
        "id": "A90D4hIB483F",
        "outputId": "25d4cbce-23b5-4366-cce4-3262175fec88"
      },
      "execution_count": null,
      "outputs": [
        {
          "output_type": "stream",
          "name": "stdout",
          "text": [
            "Rp:   3.3 Ohm.\n",
            "Xp:   2.3 Ohm.\n"
          ]
        }
      ]
    },
    {
      "cell_type": "markdown",
      "source": [
        "### Question 9.\n",
        "\n",
        "A transformer is composed of a single primary coil and two secondary coils that are mounted on the core. How do we connect the terminals of the secondary coils in order to obtain their aggregate voltages as the “output” of the transformer (serial connection)?"
      ],
      "metadata": {
        "id": "YAPo14Sf-uP4"
      }
    },
    {
      "cell_type": "markdown",
      "source": [
        "### Question 10.\n",
        "\n",
        "Can the transformer work in with DC? Explain."
      ],
      "metadata": {
        "id": "VbfaSklp-yiM"
      }
    },
    {
      "cell_type": "markdown",
      "source": [
        "### Question 11.\n",
        "\n",
        "What is an Eddy current? How does it affect the transformer and how can it be reduced?"
      ],
      "metadata": {
        "id": "P1gc_k64-2gH"
      }
    },
    {
      "cell_type": "markdown",
      "source": [
        "### Question 12.\n",
        "\n",
        "What is the equation for efficiency if the input power and transformer losses are known? Use the formula in question 6.c, and the Law of Energy Conservation."
      ],
      "metadata": {
        "id": "P55e6fXk-6rX"
      }
    },
    {
      "cell_type": "markdown",
      "source": [
        "#### Answer 12.\n",
        "\n",
        "Efficiency $\\eta = {\\text{input power} - \\text{losses}\\over \\text{input power}}$"
      ],
      "metadata": {
        "id": "hGzkm6ab6bl9"
      }
    },
    {
      "cell_type": "markdown",
      "source": [
        "## Experiment"
      ],
      "metadata": {
        "id": "rimKZ_07JEhR"
      }
    },
    {
      "cell_type": "markdown",
      "source": [
        "### Before and during the Experiment\n",
        "\n",
        "Training on the Digital Scope is mandatory prior to commencing with the experiment.\n",
        "\n",
        "### Safety rules while working at the transformer test station:\n",
        "\n",
        "<font color=red>\n",
        "\n",
        "1. Call the instructor to examine the circuit before turning on the power supply.\n",
        "2. If, after turning on the power, the measuring instruments do not respond (show 0) or beep, turn the power off immediately.\n",
        "3. When modifications are made to the circuit board, turn off the power, make the modifications, and only then turn on the power again .\n",
        "4. The number of winds for the primary must be 140 for all the circuits (except for the section on conversion of impedances). Please do not reduce the number because this causes an increase in circuit current, and a current greater than 5A can cause damage to the equipment .\n",
        "\n",
        "</font>\n",
        "\n",
        "Before starting the experiment, the values of the inductance and resistance shown on the coils will be recorded, and the inductance of the coils will be measured during their placement on the core using an LCR meter. What creates the difference between values?\n"
      ],
      "metadata": {
        "id": "T3flD95n_Y5n"
      }
    },
    {
      "cell_type": "markdown",
      "source": [
        "### Step 0. Write down nominals"
      ],
      "metadata": {
        "id": "wocf1BTgK_8K"
      }
    },
    {
      "cell_type": "code",
      "source": [
        "# coil 1 inductance and resistance\n",
        "# ..."
      ],
      "metadata": {
        "id": "yDwKb9JzLN_P"
      },
      "execution_count": null,
      "outputs": []
    },
    {
      "cell_type": "markdown",
      "source": [
        "### Non-load transformer measurements\n",
        "\n",
        "For measuring the current, connect the wires to the multimeter only between the COM and 2/20A sockets."
      ],
      "metadata": {
        "id": "zNBBkScQBWE0"
      }
    },
    {
      "cell_type": "markdown",
      "source": [
        "### Step 1. Connect wires\n",
        "\n",
        "Connect the circuit and multimeters to measure voltage and current in the primary coil and secondary coil as shown in Figure 11. Connect the scope to a circuit using two coaxial cables (see fig. 12).\n",
        "\n",
        "<img src=\"https://raw.githubusercontent.com/ekolonsky/Technion-lab2/main/f11.jpg\"/> \n",
        "<br>\n",
        "Figure 11: Electrical circuit for non-load transformer measurements, see explanation in section 1.\n",
        "\n",
        "<img src=\"https://raw.githubusercontent.com/ekolonsky/Technion-lab2/main/f12.jpg\"/> \n",
        "<br>\n",
        "Figure 12: Coaxial cables\n",
        "\n",
        "<u> Explanation of measuring Channel 2 of the scope </u>: During the experiment, the phase difference between voltage and current in the primary coil will be measured, but the digital scope can only measure voltages in both channels and <u>not currents</u>. To measure the phase of the current, connect channel 2 of the Scope in parallel to the voltmeter which measures $I_p$ (see Figure 11). The <del> volttmeter </del> <ins> ammeter </ins> has a small internal resistance: ~ 0.1Ω**  and if the voltage is measured on the voltmeter, then this voltage will be proportional to the current, for example, it will have the same phase. In this manner, the phase of the current can be measured."
      ],
      "metadata": {
        "id": "25-DrX_JBtaK"
      }
    },
    {
      "cell_type": "markdown",
      "source": [
        "### Step 2. Fix ratio and change voltage\n",
        "\n",
        "Measure the voltages $𝑉_𝑝$, $𝑉_𝑠$ and the $𝐼_𝑝$ current for all voltages of the generator between $2V$ to $14V$ for the number of winds in the primary coil 140 and in the secondary coil 140 winds.\n",
        "\n",
        "**Important:**\n",
        "\n",
        "* Wait 5 seconds or more until the reading of the multimeter stabilizes.\n",
        "* The multimeter measures effective voltage and current (RMS), and not the amplitude. See an introduction to AC, explanation of the digital Scope).\n",
        "\n",
        "Draw a graph of $𝑉_s$ as a function of $𝑉_𝑝$ and discuss the resulting gradient. Does it fit theory?"
      ],
      "metadata": {
        "id": "ziUt9R6mCc-n"
      }
    },
    {
      "cell_type": "code",
      "source": [
        "# measurements: each line a point Vp, Vs\n",
        "measurements = '''\n",
        "2 2\n",
        "3 2.9\n",
        "4 4\n",
        "5 5.1\n",
        "'''\n",
        "data = np.genfromtxt(measurements.splitlines(), dtype=float) \n",
        "Vp, Vs = data.T\n",
        "\n",
        "plt.plot(Vp, Vs, '-o')\n",
        "plt.xlabel('Vp, V')\n",
        "plt.ylabel('Vs, V')\n"
      ],
      "metadata": {
        "colab": {
          "base_uri": "https://localhost:8080/",
          "height": 296
        },
        "id": "oecJZUoi_cY5",
        "outputId": "87773cd4-7234-422d-8f41-7beb247a31cd"
      },
      "execution_count": null,
      "outputs": [
        {
          "output_type": "execute_result",
          "data": {
            "text/plain": [
              "Text(0, 0.5, 'Vs, V')"
            ]
          },
          "metadata": {},
          "execution_count": 13
        },
        {
          "output_type": "display_data",
          "data": {
            "text/plain": [
              "<Figure size 432x288 with 1 Axes>"
            ],
            "image/png": "[encoded data removed]"
          },
          "metadata": {
            "needs_background": "light"
          }
        }
      ]
    },
    {
      "cell_type": "markdown",
      "source": [
        "### Step 3. Fix voltage, change ratio\n",
        "\n",
        "Measure the voltages $𝑉_𝑝$, $𝑉_𝑠$ and the $𝐼_𝑝$ current for the voltage of the $10V$ generator. The number of winds in the primary coil 140, and the number of secondary coil winds: 14, 42, 84, 112, 140. Draw a graph of ${𝑉_𝑠 \\over 𝑉_𝑝}$ as a function of ${𝑁_S \\over 𝑁_𝑝}$. What can be deduced from the graph?"
      ],
      "metadata": {
        "id": "JFI_YdhaGBpr"
      }
    },
    {
      "cell_type": "code",
      "source": [
        "# measurements: each line a point Ns, Vp, Vs\n",
        "measurements = '''\n",
        "14 10 1\n",
        "42 10 3\n",
        "84 10 6\n",
        "112 10 8\n",
        "140 10 10\n",
        "'''\n",
        "data = np.genfromtxt(measurements.splitlines(), dtype=float) \n",
        "Ns, Vp, Vs = data.T\n",
        "Np = 140\n",
        "\n",
        "plt.plot(Ns/Np, np.divide(Vs, Vp), '-o')\n",
        "plt.xlabel('Ns/Np')\n",
        "plt.ylabel('Vs/Vp')"
      ],
      "metadata": {
        "colab": {
          "base_uri": "https://localhost:8080/",
          "height": 296
        },
        "id": "tsBokEMGGqyk",
        "outputId": "ba879cd7-a247-4c92-c079-f30cd6e1c993"
      },
      "execution_count": null,
      "outputs": [
        {
          "output_type": "execute_result",
          "data": {
            "text/plain": [
              "Text(0, 0.5, 'Vs/Vp')"
            ]
          },
          "metadata": {},
          "execution_count": 14
        },
        {
          "output_type": "display_data",
          "data": {
            "text/plain": [
              "<Figure size 432x288 with 1 Axes>"
            ],
            "image/png": "[encoded data removed]"
          },
          "metadata": {
            "needs_background": "light"
          }
        }
      ]
    },
    {
      "cell_type": "markdown",
      "source": [
        "### Measure phase difference in the primary circuit"
      ],
      "metadata": {
        "id": "H0odl2VPHsSm"
      }
    },
    {
      "cell_type": "markdown",
      "source": [
        "### Step 4. Non-load\n",
        "\n",
        "**Measure non-load phase difference (empty experiment)**: Adjust the generator <u>to 8V</u>. Make sure that the number of winds in the <u>primary and secondary coils is equal to 140</u>. Adjust the round switch of the multimeter to 2A or 20A, AC and the coupling of the two channels of the scope to DC. Measure the voltages $𝑉_𝑝$, $𝑉_𝑠$ the $𝐼_𝑝$ current and the phase difference between Channel 1 and Channel 2 of the scope (click the meas button and select the phase function). To reduce noise on Channel 2, press the Acquire key and select AcqMode (Averaging). From the measurement results, calculate the components $𝐼_𝑀$, $𝐼_𝐶$, $𝑅_𝐶$, $𝑋_𝑀$. It is then assumed that $I_0$ does not change as the result of a final load connection."
      ],
      "metadata": {
        "id": "PvcZOMZnHyjt"
      }
    },
    {
      "cell_type": "code",
      "source": [
        "# measurements here\n",
        "phi = 45 / 180 * np.pi # to radians\n",
        "Vp = 2\n",
        "I0 = 0.1\n",
        "\n",
        "Ic = I0 * np.cos(phi)\n",
        "Im = I0 * np.sin(phi)\n",
        "Rc = Vp / Ic\n",
        "Xm = Vp / Im\n",
        "print('Ic: {:5.1f} A.'.format(Ic))\n",
        "print('Im: {:5.1f} A.'.format(Im))\n",
        "print('Rc: {:5.1f} Ohm.'.format(Rc))\n",
        "print('Xm: {:5.1f} Ohm.'.format(Xm))\n"
      ],
      "metadata": {
        "colab": {
          "base_uri": "https://localhost:8080/"
        },
        "id": "kyQTxatXEcnX",
        "outputId": "9dd7b0ac-3a38-4d2b-e118-4a30b8239fbe"
      },
      "execution_count": null,
      "outputs": [
        {
          "output_type": "stream",
          "name": "stdout",
          "text": [
            "Ic:   0.1 A.\n",
            "Im:   0.1 A.\n",
            "Rc:  28.3 Ohm.\n",
            "Xm:  28.3 Ohm.\n"
          ]
        }
      ]
    },
    {
      "cell_type": "markdown",
      "source": [
        "### Step 5. Short\n",
        "\n",
        "**Perform a Phase Difference Measurement with a short (short experiment)**: Adjust the generator <u><b>to 8V</b></u>. Ensure that the number of winds <u>in the primary and secondary coils is equal to 140</u>. Shorten the secondary coil of the transformer by connecting the terminals. Measure the $𝐼_p$ current, the $V_p$ voltage, and the phase difference between them (between channel 1 and channel 2 of the scope). From the measurement results, calculate the components $R_p$, $R_s$, $X_p$, $X_s$. Compare the measured coil resistance ."
      ],
      "metadata": {
        "id": "hNn27XRkJ6tY"
      }
    },
    {
      "cell_type": "code",
      "source": [
        "# measurements here\n",
        "Vp = 0.01\n",
        "Ip = 1\n",
        "phi = 35/180*np.pi\n",
        "\n",
        "Rp = Vp/Ip * np.cos(phi)\n",
        "Xp = Vp/Ip * np.sin(phi)\n",
        "\n",
        "Rs = Rp\n",
        "Xs = Xp\n",
        "\n",
        "print('Rp = Rs: {:6.3f} Ohm.'.format(Rp))\n",
        "print('Xp = Xs: {:6.3f} Ohm.'.format(Xp))"
      ],
      "metadata": {
        "colab": {
          "base_uri": "https://localhost:8080/"
        },
        "id": "NfVsa-OPLMmS",
        "outputId": "ff62ca02-e87b-4d7b-f21c-d9810a75f096"
      },
      "execution_count": null,
      "outputs": [
        {
          "output_type": "stream",
          "name": "stdout",
          "text": [
            "Rp = Rs:  0.008 Ohm.\n",
            "Xp = Xs:  0.006 Ohm.\n"
          ]
        }
      ]
    },
    {
      "cell_type": "markdown",
      "source": [
        "### Measurements in transformer with load in secondary coil"
      ],
      "metadata": {
        "id": "sA343KXXMI7i"
      }
    },
    {
      "cell_type": "markdown",
      "source": [
        "### Step 6. Load\n",
        "\n",
        "Connect the circuit and multimeters to measure current and voltage in the primary coil and secondary coil as shown in Figure 13. Note that when the multimeter which measured $𝑉_𝑝$ then moves on to measure $𝐼_s$ adjust the rheostat to $10\\Omega$ resistance. Measure the $R_L$ resistance precisely. The black multimeter may be used to measure the voltage $V_𝑝$. How should the multimeter be connected to measure this voltage?\n",
        "\n",
        "<img src=\"https://raw.githubusercontent.com/ekolonsky/Technion-lab2/main/f13.jpg\"  width=60%/> \n",
        "<br>\n",
        "Figure 13: Electrical circuit for the experiment of measuring the transformer with load in the secondary coil"
      ],
      "metadata": {
        "id": "tqOxqMSyMMdd"
      }
    },
    {
      "cell_type": "code",
      "source": [
        "# measurements here\n"
      ],
      "metadata": {
        "id": "oRj-cfXSVoHv"
      },
      "execution_count": null,
      "outputs": []
    },
    {
      "cell_type": "markdown",
      "source": [
        "### Step 7. Change voltage under load\n",
        "\n",
        "Measure the currents $𝐼_𝑝$, $𝐼_𝑠$ for all voltages of the generator between $2V$ to $14V$ and for 140 winds in the primary coil and 14 winds in the secondary coil. Draw a graph of $𝐼_𝑠$ as a function of $𝐼_𝑝$ . What can be deduced from the graph?"
      ],
      "metadata": {
        "id": "oLKAjdBXM7SE"
      }
    },
    {
      "cell_type": "code",
      "source": [
        "# measurements: each line a point Vp, Ip, Is\n",
        "\n",
        "measurements = '''\n",
        "2 .50 5\n",
        "3 .33 3\n",
        "4 .25 2.5\n",
        "5 .20 2\n",
        "10 .10 1\n",
        "'''\n",
        "data = np.genfromtxt(measurements.splitlines(), dtype=float) \n",
        "Np = 140\n",
        "Ns = 14\n",
        "Vp, Ip, Is = data.T\n",
        "\n",
        "\n",
        "plt.plot(Ip, Is, '-o')\n",
        "plt.xlabel('Ip, A')\n",
        "plt.ylabel('Is, A')\n"
      ],
      "metadata": {
        "colab": {
          "base_uri": "https://localhost:8080/",
          "height": 296
        },
        "id": "wIAk5mEYMqMq",
        "outputId": "c370f73c-25cf-489d-cdff-e273c3035d04"
      },
      "execution_count": null,
      "outputs": [
        {
          "output_type": "execute_result",
          "data": {
            "text/plain": [
              "Text(0, 0.5, 'Is, A')"
            ]
          },
          "metadata": {},
          "execution_count": 18
        },
        {
          "output_type": "display_data",
          "data": {
            "text/plain": [
              "<Figure size 432x288 with 1 Axes>"
            ],
            "image/png": "[encoded data removed]"
          },
          "metadata": {
            "needs_background": "light"
          }
        }
      ]
    },
    {
      "cell_type": "markdown",
      "source": [
        "### Step 8. Fix voltage, change ratio under load\n",
        "\n",
        "Measure the $𝐼_𝑝$, $𝐼_𝑠$ currents for the primary coil voltage $𝑉_𝑝 = 10𝑉$ (measure the exact value), for 140 winds in the primary coil and the number of secondary coil winds: 14, 42, 84, 112, 140. Draw a graph of $𝐼_𝑠$ as a function of $𝑁_𝑠$. What does the slope mean? Does it fit the theory? (See Preparation Question 2)."
      ],
      "metadata": {
        "id": "MmJNReRIOPaz"
      }
    },
    {
      "cell_type": "code",
      "source": [
        "# measurements: each line a point Ns, Ip, Is\n",
        "measurements = '''\n",
        "14 .1 1\n",
        "42 .3 3\n",
        "84 .6 6\n",
        "112 .8 8\n",
        "140 1.0 10\n",
        "'''\n",
        "data = np.genfromtxt(measurements.splitlines(), dtype=float) \n",
        "Ns, Ip, Is = data.T\n",
        "Np = 140\n",
        "Vp = 10\n",
        "\n",
        "plt.plot(Is, Ns, '-o')\n",
        "plt.xlabel('Is, A')\n",
        "plt.ylabel('Ns')"
      ],
      "metadata": {
        "colab": {
          "base_uri": "https://localhost:8080/",
          "height": 296
        },
        "id": "J8xmoj_1Xy38",
        "outputId": "26e7c78d-8934-4689-8136-9bdd2c6ec8cb"
      },
      "execution_count": null,
      "outputs": [
        {
          "output_type": "execute_result",
          "data": {
            "text/plain": [
              "Text(0, 0.5, 'Ns')"
            ]
          },
          "metadata": {},
          "execution_count": 19
        },
        {
          "output_type": "display_data",
          "data": {
            "text/plain": [
              "<Figure size 432x288 with 1 Axes>"
            ],
            "image/png": "[encoded data removed]"
          },
          "metadata": {
            "needs_background": "light"
          }
        }
      ]
    },
    {
      "cell_type": "markdown",
      "source": [
        "### Step 9. Losses under load\n",
        "\n",
        "**Measure the phase difference for final load**: <u>Adjust the generator to the 8V</u>, ensure that the number of winds in the <u>primary and secondary coils is equal to 140</u>. Turn the circular switch of the multimeter to 2A or 20A AC and the coupling of the two channels of the Scope DC. Measure the parameters $𝐼_𝑝$, $𝐼_𝑠$, $𝑉_𝑝$, $𝑉_𝑠$, $𝑅_𝐿$ and the phase difference between channel 1 and channel 2 of the Scope (VP can be measured using the Scope).\n",
        "\n",
        "From the measurement and results of Section 4, calculate the $I_S^*$ component and compare to the $I_S$ which was measured directly. Calculate the power at the transformer input (see Preparation Question 4). Calculate the losses in the wires of the coils of the transformer core heating, and use this data to calculate the efficiency. Calculate the efficiency of the transformer in this state according to the power of the load and the input power, and compare (Preparation Questions 6,12)."
      ],
      "metadata": {
        "id": "GvRK0a6oQELo"
      }
    },
    {
      "cell_type": "code",
      "source": [
        "# Measurements here\n",
        "Ns = 140\n",
        "Np = 140\n",
        "Ip = 10\n",
        "Is = 0.8\n",
        "Vp = 1\n",
        "Vs = 1\n",
        "RL = 1\n",
        "phi = 0 / 180 * np.pi\n",
        "a = Np/Ns\n",
        "\n",
        "ISS = Ip - I0\n",
        "print('Secondary current calculated and measured', ISS, Is)\n",
        "\n",
        "# Input power\n",
        "Pp = Vp * Ip * np.cos(phi)\n",
        "\n",
        "# Loss on 'no-load'. I0 and Rc are defined in 'no-load' experiment 4\n",
        "Loss_noload = I0**2 * np.cos(phi)**2 * Rc\n",
        "\n",
        "# Additional loss under load. Rp defined in 'short' experiment 5\n",
        "Loss_load = Ip**2 * np.cos(phi)**2 * Rp\n",
        "\n",
        "# Total loss\n",
        "Loss = Loss_noload + Loss_load\n",
        "\n",
        "eff = (Pp - Loss) / Pp\n",
        "print('Efficiency', eff)\n",
        "\n"
      ],
      "metadata": {
        "colab": {
          "base_uri": "https://localhost:8080/"
        },
        "id": "HWeqNGLgYzBv",
        "outputId": "a273436a-4206-4d63-b458-81242ee39f5b"
      },
      "execution_count": null,
      "outputs": [
        {
          "output_type": "stream",
          "name": "stdout",
          "text": [
            "Secondary current calculated and measured 9.9 0.8\n",
            "Efficiency 0.8898005243236389\n"
          ]
        }
      ]
    },
    {
      "cell_type": "markdown",
      "source": [
        "### Measurements in a transformer as an impedance converter"
      ],
      "metadata": {
        "id": "wdtYPk3GQov_"
      }
    },
    {
      "cell_type": "markdown",
      "source": [
        "### Step 10. Change load, measure output voltage and current\n",
        "\n",
        "Set the number of winds in the primary coil to 84 and the secondary coil to 140. Set the generator to $2V$. Change the rheostatic resistance between $0$ to $10\\Omega$ (at least 10 different points from the $R_L$ range) and measure the current and voltage in the secondary coil."
      ],
      "metadata": {
        "id": "g4EoTUcvQlS9"
      }
    },
    {
      "cell_type": "code",
      "source": [
        "# measurements: each line a point RL, Vs, Is\n",
        "measurements = '''\n",
        "1 3 3\n",
        "2 3 4\n",
        "3 3 6\n",
        "4 3 7\n",
        "5 3 6\n",
        "6 3 5\n",
        "7 3 4\n",
        "8 3 4\n",
        "9 3 2\n",
        "10 3 1\n",
        "'''\n",
        "data = np.genfromtxt(measurements.splitlines(), dtype=float) \n",
        "RL, Vs, Is = data.T\n",
        "Np = 84\n",
        "Ns = 140\n",
        "Vp = 2\n",
        "a = Np/Ns\n",
        "\n",
        "plt.plot(RL, Is, '-o')\n",
        "plt.xlabel('RL, Ohm')\n",
        "plt.ylabel('Is, A')"
      ],
      "metadata": {
        "colab": {
          "base_uri": "https://localhost:8080/",
          "height": 296
        },
        "id": "F0NTWxUzcugX",
        "outputId": "e1a8fe4e-4a5d-4c9d-8ffd-3b34d81b53ad"
      },
      "execution_count": null,
      "outputs": [
        {
          "output_type": "execute_result",
          "data": {
            "text/plain": [
              "Text(0, 0.5, 'Is, A')"
            ]
          },
          "metadata": {},
          "execution_count": 29
        },
        {
          "output_type": "display_data",
          "data": {
            "text/plain": [
              "<Figure size 432x288 with 1 Axes>"
            ],
            "image/png": "[encoded data removed]"
          },
          "metadata": {
            "needs_background": "light"
          }
        }
      ]
    },
    {
      "cell_type": "markdown",
      "source": [
        "### Step 11. Power under changing load\n",
        "\n",
        "Draw a graph of the power $I_𝑠 𝑉_𝑠$ for $R_L$.  The rheostat resistance of the rheostat can be found according to $R_L = {𝑉_𝑠 \\over 𝐼_𝑠}$. Determine for which $R_L$ value the maximum power is obtained for $R_L$. Add points on the graph to measure the precise maximum. What is the equivalent resistance ($R_E$ in Figure 4) that corresponds to the maximum power? What is the internal resistance of the generator used in the experiment?"
      ],
      "metadata": {
        "id": "YcitOX3nQ7wQ"
      }
    },
    {
      "cell_type": "code",
      "source": [
        "RL = np.divide(Vs, Is)\n",
        "Ps = np.multiply(Vs, Is)\n",
        "\n",
        "plt.plot(RL, Ps, 'o')\n",
        "plt.xlabel('RL, Ohm')\n",
        "plt.ylabel('Ps, W')\n",
        "\n",
        "# r = a^2 * RL_max"
      ],
      "metadata": {
        "colab": {
          "base_uri": "https://localhost:8080/",
          "height": 296
        },
        "id": "IOv_94LMfF4o",
        "outputId": "f63f3fce-4202-446e-d5c6-b207c032c72c"
      },
      "execution_count": null,
      "outputs": [
        {
          "output_type": "execute_result",
          "data": {
            "text/plain": [
              "Text(0, 0.5, 'Ps, W')"
            ]
          },
          "metadata": {},
          "execution_count": 30
        },
        {
          "output_type": "display_data",
          "data": {
            "text/plain": [
              "<Figure size 432x288 with 1 Axes>"
            ],
            "image/png": "[encoded data removed]"
          },
          "metadata": {
            "needs_background": "light"
          }
        }
      ]
    },
    {
      "cell_type": "markdown",
      "source": [
        "### Step 12. Autotransformer\n",
        "\n",
        "Disconnect all wires and connect the transformer as an Autotransformer.\n",
        "Use only one coil, see Figure 10. Connect two multimeters to measure\n",
        "voltages $𝑉_p$, $𝑉_s$. Connect one voltmeter directly to the signal generator which is connected to the primary coil of 140 winds and a second voltmeter connect to the coil with 14 winds. Turn on $8V$ current in the generator, and measure the currents. Alter the number of winds of the secondary coil in the transformer to 42, 84, 112 and measure the voltages accordingly.\n",
        "\n",
        "Draw a graph ${V_s \\over V_p}$ as a function of ${N_s \\over N_p}$.\n",
        "\n",
        "Compare the result to the theoretical value.\n",
        "\n",
        "<img src=\"https://raw.githubusercontent.com/ekolonsky/Technion-lab2/main/f10.jpg\"  width=50%/> "
      ],
      "metadata": {
        "id": "Q9CiZkxARsn5"
      }
    },
    {
      "cell_type": "code",
      "source": [
        "# measurements: each line a point Ns, Vp, Vs\n",
        "measurements = '''\n",
        "42 8 3\n",
        "84 8 4\n",
        "112 8 7\n",
        "'''\n",
        "data = np.genfromtxt(measurements.splitlines(), dtype=float) \n",
        "Ns, Vp, Vs = data.T\n",
        "Np = 140\n",
        "\n",
        "plt.plot(Ns/Np, np.divide(Vs, Vp), '-o')\n",
        "plt.xlabel('Ns/Np')\n",
        "plt.ylabel('Vs/Vp, A')"
      ],
      "metadata": {
        "colab": {
          "base_uri": "https://localhost:8080/",
          "height": 300
        },
        "id": "kjiudUVoSnA-",
        "outputId": "1714d0d1-27fe-4a8f-e2d7-62808ff4e180"
      },
      "execution_count": null,
      "outputs": [
        {
          "output_type": "execute_result",
          "data": {
            "text/plain": [
              "Text(0, 0.5, 'Vs/Vp, A')"
            ]
          },
          "metadata": {},
          "execution_count": 31
        },
        {
          "output_type": "display_data",
          "data": {
            "text/plain": [
              "<Figure size 432x288 with 1 Axes>"
            ],
            "image/png": "[encoded data removed]"
          },
          "metadata": {
            "needs_background": "light"
          }
        }
      ]
    },
    {
      "cell_type": "markdown",
      "source": [
        "## Conclusion\n",
        "\n",
        "<u>Concepts, methods and instruments about which the the student learns, and knows how to use\n",
        "after submitting the report on the subject:</u>\n",
        "\n",
        "Faraday's law, Lenz’s Law, Load, Equivalent Inhibition, Inductance, Electric\n",
        "Inductance, Transformer, Secondary Coil, Primary Coil, ideal transformer, step down\n",
        "transformer, step up transformer, reflected impedance, transformation circuit,\n",
        "equivalent circuit, impedance coordination, Hysteresis losses, Eddy currents ,\n",
        "phasor, phasor diagrams, Autotransformer, Variac ."
      ],
      "metadata": {
        "id": "yK3GzqN1Qtkv"
      }
    },
    {
      "cell_type": "markdown",
      "source": [
        "## Source list\n",
        "\n",
        "[1] An explanation of the phenomena of Hysteresis losses and Eddy Currents\n",
        "appears in the book :\n",
        "Dr. David Almakis Energy conversion: transformers and electrical machinery Ministry of Education, Matach, pgs 63, 66-69.\n",
        "\n",
        "[2] Locations of transformation circuit components of real transformer:\n",
        "Dr. David Almakis Energy conversion: transformers and electrical machinery Ministry\n",
        "of Education, Matach, pgs 48-50 ."
      ],
      "metadata": {
        "id": "WtcI9-8TTItB"
      }
    }
  ]
}